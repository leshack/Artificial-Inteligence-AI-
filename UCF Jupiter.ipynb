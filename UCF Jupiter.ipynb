{
 "cells": [
  {
   "cell_type": "code",
   "execution_count": null,
   "id": "4dcfaa2e",
   "metadata": {},
   "outputs": [],
   "source": [
    "graph=[['S','A',6],\n",
    "       ['S','B',5],\n",
    "       ['S','C',10],\n",
    "       ['A','E',6],\n",
    "       ['B','E',6],\n",
    "       ['B','D',7],\n",
    "       ['C','D',6],\n",
    "       ['E','F',6],\n",
    "       ['D','F',6],\n",
    "       ['F','G',1]]\n",
    "temp = []\n",
    "temp1 = []\n",
    "for i in graph:\n",
    "  temp.append(i[0])\n",
    "  temp1.append(i[1])\n",
    "nodes = set(temp).union(set(temp1))\n",
    "def UCS(graph, costs, open, closed, cur_node):\n",
    "  if cur_node in open:\n",
    "    open.remove(cur_node)\n",
    "  closed.add(cur_node)\n",
    "  for i in graph:\n",
    "    if(i[0] == cur_node and costs[i[0]]+i[2] < costs[i[1]]):\n",
    "      open.add(i[1])\n",
    "      costs[i[1]] = costs[i[0]]+i[2]\n",
    "      path[i[1]] = path[i[0]] + ' -> ' + i[1]\n",
    "  costs[cur_node] = 999999\n",
    "  small = min(costs, key=costs.get)\n",
    "  if small not in closed:\n",
    "    UCS(graph, costs, open,closed, small)\n",
    "costs = dict()\n",
    "temp_cost = dict()\n",
    "path = dict()\n",
    "for i in nodes:\n",
    "  costs[i] = 999999\n",
    "  path[i] = ' '\n",
    "open = set()\n",
    "closed = set()\n",
    "start_node = input(\"Enter the Start State: \")\n",
    "open.add(start_node)\n",
    "path[start_node] = start_node\n",
    "costs[start_node] = 0\n",
    "UCS(graph, costs, open, closed, start_node)\n",
    "goal_node = input(\"Enter the Goal State: \")\n",
    "print(\"Path with least cost is: \",path[goal_node])"
   ]
  }
 ],
 "metadata": {
  "kernelspec": {
   "display_name": "Python 3 (ipykernel)",
   "language": "python",
   "name": "python3"
  },
  "language_info": {
   "codemirror_mode": {
    "name": "ipython",
    "version": 3
   },
   "file_extension": ".py",
   "mimetype": "text/x-python",
   "name": "python",
   "nbconvert_exporter": "python",
   "pygments_lexer": "ipython3",
   "version": "3.9.12"
  }
 },
 "nbformat": 4,
 "nbformat_minor": 5
}
