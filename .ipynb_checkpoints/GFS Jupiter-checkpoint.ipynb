{
 "cells": [
  {
   "cell_type": "code",
   "execution_count": null,
   "id": "67265a43",
   "metadata": {},
   "outputs": [],
   "source": [
    "graph = {\n",
    "'A':[('B',12), ('C',4)],\n",
    "'B':[('D',7), ('E',3)],\n",
    "'C':[('F',8), ('G',2)],\n",
    "'D':[],\n",
    "'E':[('H',0)],\n",
    "'F':[('H',0)],\n",
    "'G':[('H',0)]\n",
    "}\n",
    "\n",
    "\n",
    "def gfs(start, target, graph, queue=[], visited=[]):\n",
    "    if start not in visited:\n",
    "        print(start)\n",
    "        visited.append(start)\n",
    "    queue=queue+[x for x in graph[start] if x[0][0] not in visited]\n",
    "    queue.sort(key=lambda x:x[1])\n",
    "    if queue[0][0]==target:\n",
    "        print(queue[0][0])\n",
    "    else:\n",
    "        processing=queue[0]\n",
    "        queue.remove(processing)\n",
    "        gfs(processing[0], target, graph, queue, visited)\n",
    "gfs('A', 'H', graph)"
   ]
  }
 ],
 "metadata": {
  "kernelspec": {
   "display_name": "Python 3 (ipykernel)",
   "language": "python",
   "name": "python3"
  },
  "language_info": {
   "codemirror_mode": {
    "name": "ipython",
    "version": 3
   },
   "file_extension": ".py",
   "mimetype": "text/x-python",
   "name": "python",
   "nbconvert_exporter": "python",
   "pygments_lexer": "ipython3",
   "version": "3.9.12"
  }
 },
 "nbformat": 4,
 "nbformat_minor": 5
}
