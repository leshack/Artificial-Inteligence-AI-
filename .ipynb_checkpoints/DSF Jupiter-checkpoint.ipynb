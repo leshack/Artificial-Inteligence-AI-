{
 "cells": [
  {
   "cell_type": "code",
   "execution_count": 1,
   "id": "b1b7c482",
   "metadata": {},
   "outputs": [
    {
     "name": "stdout",
     "output_type": "stream",
     "text": [
      "Please enter the number of vertices : 4\n",
      "Enter connections of Vertex 0 as equally spaced integers : 2\n",
      "Enter connections of Vertex 1 as equally spaced integers : 4\n",
      "Enter connections of Vertex 2 as equally spaced integers : 3\n",
      "Enter connections of Vertex 3 as equally spaced integers : 1\n"
     ]
    },
    {
     "ename": "IndexError",
     "evalue": "list index out of range",
     "output_type": "error",
     "traceback": [
      "\u001b[1;31m---------------------------------------------------------------------------\u001b[0m",
      "\u001b[1;31mIndexError\u001b[0m                                Traceback (most recent call last)",
      "Input \u001b[1;32mIn [1]\u001b[0m, in \u001b[0;36m<cell line: 58>\u001b[1;34m()\u001b[0m\n\u001b[0;32m     55\u001b[0m     \u001b[38;5;28;01mfor\u001b[39;00m j \u001b[38;5;129;01min\u001b[39;00m x:\n\u001b[0;32m     56\u001b[0m         g\u001b[38;5;241m.\u001b[39maddEdge(i, j)\n\u001b[1;32m---> 58\u001b[0m \u001b[38;5;28;01mif\u001b[39;00m \u001b[43mg\u001b[49m\u001b[38;5;241;43m.\u001b[39;49m\u001b[43misCyclic\u001b[49m\u001b[43m(\u001b[49m\u001b[43m)\u001b[49m \u001b[38;5;241m==\u001b[39m \u001b[38;5;241m1\u001b[39m:\n\u001b[0;32m     59\u001b[0m     \u001b[38;5;28mprint\u001b[39m(\u001b[38;5;124m\"\u001b[39m\u001b[38;5;130;01m\\n\u001b[39;00m\u001b[38;5;124mGraph has a cycle\u001b[39m\u001b[38;5;124m\"\u001b[39m)\n\u001b[0;32m     60\u001b[0m \u001b[38;5;28;01melse\u001b[39;00m:\n",
      "Input \u001b[1;32mIn [1]\u001b[0m, in \u001b[0;36mGraph.isCyclic\u001b[1;34m(self)\u001b[0m\n\u001b[0;32m     40\u001b[0m \u001b[38;5;28;01mfor\u001b[39;00m node \u001b[38;5;129;01min\u001b[39;00m \u001b[38;5;28mrange\u001b[39m(\u001b[38;5;28mself\u001b[39m\u001b[38;5;241m.\u001b[39mV):\n\u001b[0;32m     41\u001b[0m     \u001b[38;5;28;01mif\u001b[39;00m \u001b[38;5;129;01mnot\u001b[39;00m visited[node]:\n\u001b[1;32m---> 42\u001b[0m         \u001b[38;5;28;01mif\u001b[39;00m \u001b[38;5;28;43mself\u001b[39;49m\u001b[38;5;241;43m.\u001b[39;49m\u001b[43misCyclicUtil\u001b[49m\u001b[43m(\u001b[49m\u001b[43mnode\u001b[49m\u001b[43m,\u001b[49m\u001b[43m \u001b[49m\u001b[43mvisited\u001b[49m\u001b[43m,\u001b[49m\u001b[43m \u001b[49m\u001b[43mrecStack\u001b[49m\u001b[43m)\u001b[49m:\n\u001b[0;32m     43\u001b[0m             \u001b[38;5;28;01mreturn\u001b[39;00m \u001b[38;5;28;01mTrue\u001b[39;00m\n\u001b[0;32m     44\u001b[0m \u001b[38;5;28;01mreturn\u001b[39;00m \u001b[38;5;28;01mFalse\u001b[39;00m\n",
      "Input \u001b[1;32mIn [1]\u001b[0m, in \u001b[0;36mGraph.isCyclicUtil\u001b[1;34m(self, v, visited, recStack)\u001b[0m\n\u001b[0;32m     26\u001b[0m \u001b[38;5;28;01mfor\u001b[39;00m neighbour \u001b[38;5;129;01min\u001b[39;00m \u001b[38;5;28mself\u001b[39m\u001b[38;5;241m.\u001b[39mgraph[v]:\n\u001b[0;32m     27\u001b[0m     \u001b[38;5;28;01mif\u001b[39;00m \u001b[38;5;129;01mnot\u001b[39;00m visited[neighbour]:\n\u001b[1;32m---> 28\u001b[0m         \u001b[38;5;28;01mif\u001b[39;00m \u001b[38;5;28;43mself\u001b[39;49m\u001b[38;5;241;43m.\u001b[39;49m\u001b[43misCyclicUtil\u001b[49m\u001b[43m(\u001b[49m\u001b[43mneighbour\u001b[49m\u001b[43m,\u001b[49m\u001b[43m \u001b[49m\u001b[43mvisited\u001b[49m\u001b[43m,\u001b[49m\u001b[43m \u001b[49m\u001b[43mrecStack\u001b[49m\u001b[43m)\u001b[49m:\n\u001b[0;32m     29\u001b[0m             \u001b[38;5;28;01mreturn\u001b[39;00m \u001b[38;5;28;01mTrue\u001b[39;00m\n\u001b[0;32m     30\u001b[0m     \u001b[38;5;28;01melif\u001b[39;00m recStack[neighbour]:\n",
      "Input \u001b[1;32mIn [1]\u001b[0m, in \u001b[0;36mGraph.isCyclicUtil\u001b[1;34m(self, v, visited, recStack)\u001b[0m\n\u001b[0;32m     26\u001b[0m \u001b[38;5;28;01mfor\u001b[39;00m neighbour \u001b[38;5;129;01min\u001b[39;00m \u001b[38;5;28mself\u001b[39m\u001b[38;5;241m.\u001b[39mgraph[v]:\n\u001b[0;32m     27\u001b[0m     \u001b[38;5;28;01mif\u001b[39;00m \u001b[38;5;129;01mnot\u001b[39;00m visited[neighbour]:\n\u001b[1;32m---> 28\u001b[0m         \u001b[38;5;28;01mif\u001b[39;00m \u001b[38;5;28;43mself\u001b[39;49m\u001b[38;5;241;43m.\u001b[39;49m\u001b[43misCyclicUtil\u001b[49m\u001b[43m(\u001b[49m\u001b[43mneighbour\u001b[49m\u001b[43m,\u001b[49m\u001b[43m \u001b[49m\u001b[43mvisited\u001b[49m\u001b[43m,\u001b[49m\u001b[43m \u001b[49m\u001b[43mrecStack\u001b[49m\u001b[43m)\u001b[49m:\n\u001b[0;32m     29\u001b[0m             \u001b[38;5;28;01mreturn\u001b[39;00m \u001b[38;5;28;01mTrue\u001b[39;00m\n\u001b[0;32m     30\u001b[0m     \u001b[38;5;28;01melif\u001b[39;00m recStack[neighbour]:\n",
      "Input \u001b[1;32mIn [1]\u001b[0m, in \u001b[0;36mGraph.isCyclicUtil\u001b[1;34m(self, v, visited, recStack)\u001b[0m\n\u001b[0;32m     26\u001b[0m \u001b[38;5;28;01mfor\u001b[39;00m neighbour \u001b[38;5;129;01min\u001b[39;00m \u001b[38;5;28mself\u001b[39m\u001b[38;5;241m.\u001b[39mgraph[v]:\n\u001b[0;32m     27\u001b[0m     \u001b[38;5;28;01mif\u001b[39;00m \u001b[38;5;129;01mnot\u001b[39;00m visited[neighbour]:\n\u001b[1;32m---> 28\u001b[0m         \u001b[38;5;28;01mif\u001b[39;00m \u001b[38;5;28;43mself\u001b[39;49m\u001b[38;5;241;43m.\u001b[39;49m\u001b[43misCyclicUtil\u001b[49m\u001b[43m(\u001b[49m\u001b[43mneighbour\u001b[49m\u001b[43m,\u001b[49m\u001b[43m \u001b[49m\u001b[43mvisited\u001b[49m\u001b[43m,\u001b[49m\u001b[43m \u001b[49m\u001b[43mrecStack\u001b[49m\u001b[43m)\u001b[49m:\n\u001b[0;32m     29\u001b[0m             \u001b[38;5;28;01mreturn\u001b[39;00m \u001b[38;5;28;01mTrue\u001b[39;00m\n\u001b[0;32m     30\u001b[0m     \u001b[38;5;28;01melif\u001b[39;00m recStack[neighbour]:\n",
      "Input \u001b[1;32mIn [1]\u001b[0m, in \u001b[0;36mGraph.isCyclicUtil\u001b[1;34m(self, v, visited, recStack)\u001b[0m\n\u001b[0;32m     24\u001b[0m \u001b[38;5;66;03m# Recur for all neighbours if any neighbour is visited and in recStack then graph is cyclic\u001b[39;00m\n\u001b[0;32m     26\u001b[0m \u001b[38;5;28;01mfor\u001b[39;00m neighbour \u001b[38;5;129;01min\u001b[39;00m \u001b[38;5;28mself\u001b[39m\u001b[38;5;241m.\u001b[39mgraph[v]:\n\u001b[1;32m---> 27\u001b[0m     \u001b[38;5;28;01mif\u001b[39;00m \u001b[38;5;129;01mnot\u001b[39;00m \u001b[43mvisited\u001b[49m\u001b[43m[\u001b[49m\u001b[43mneighbour\u001b[49m\u001b[43m]\u001b[49m:\n\u001b[0;32m     28\u001b[0m         \u001b[38;5;28;01mif\u001b[39;00m \u001b[38;5;28mself\u001b[39m\u001b[38;5;241m.\u001b[39misCyclicUtil(neighbour, visited, recStack):\n\u001b[0;32m     29\u001b[0m             \u001b[38;5;28;01mreturn\u001b[39;00m \u001b[38;5;28;01mTrue\u001b[39;00m\n",
      "\u001b[1;31mIndexError\u001b[0m: list index out of range"
     ]
    }
   ],
   "source": [
    "# To check if there's a cycle in Directed Graph\n",
    "\n",
    "from collections import defaultdict\n",
    "\n",
    "\n",
    "class Graph():\n",
    "    def __init__(self, vertices):\n",
    "        # Graph Constructor\n",
    "\n",
    "        self.graph = defaultdict(list)\n",
    "        self.V = vertices\n",
    "\n",
    "    def addEdge(self, u, v):\n",
    "\n",
    "        # Adding edges to graph\n",
    "        self.graph[u].append(v)\n",
    "\n",
    "    def isCyclicUtil(self, v, visited, recStack):\n",
    "\n",
    "        # Marks current node as visited and adds to recursion stack\n",
    "        visited[v] = True\n",
    "        recStack[v] = True\n",
    "\n",
    "        # Recur for all neighbours if any neighbour is visited and in recStack then graph is cyclic\n",
    "\n",
    "        for neighbour in self.graph[v]:\n",
    "            if not visited[neighbour]:\n",
    "                if self.isCyclicUtil(neighbour, visited, recStack):\n",
    "                    return True\n",
    "            elif recStack[neighbour]:\n",
    "                return True\n",
    "\n",
    "        recStack[v] = False\n",
    "        return False\n",
    "\n",
    "    # Returns true if graph is cyclic else false\n",
    "    def isCyclic(self):\n",
    "        visited = [False] * self.V\n",
    "        recStack = [False] * self.V\n",
    "        for node in range(self.V):\n",
    "            if not visited[node]:\n",
    "                if self.isCyclicUtil(node, visited, recStack):\n",
    "                    return True\n",
    "        return False\n",
    "\n",
    "\n",
    "vertices = int(input(\"Please enter the number of vertices : \"))\n",
    "\n",
    "g = Graph(vertices)\n",
    "\n",
    "for i in range(vertices):\n",
    "    x = input(\"Enter connections of Vertex \" + str(i) + \" as equally spaced integers : \")\n",
    "    x = x.split()\n",
    "    x = [int(j) for j in x]\n",
    "    for j in x:\n",
    "        g.addEdge(i, j)\n",
    "\n",
    "if g.isCyclic() == 1:\n",
    "    print(\"\\nGraph has a cycle\")\n",
    "else:\n",
    "    print(\"\\nGraph has no cycle\")"
   ]
  },
  {
   "cell_type": "code",
   "execution_count": null,
   "id": "9cd0ba7f",
   "metadata": {},
   "outputs": [],
   "source": []
  }
 ],
 "metadata": {
  "kernelspec": {
   "display_name": "Python 3 (ipykernel)",
   "language": "python",
   "name": "python3"
  },
  "language_info": {
   "codemirror_mode": {
    "name": "ipython",
    "version": 3
   },
   "file_extension": ".py",
   "mimetype": "text/x-python",
   "name": "python",
   "nbconvert_exporter": "python",
   "pygments_lexer": "ipython3",
   "version": "3.9.12"
  }
 },
 "nbformat": 4,
 "nbformat_minor": 5
}
