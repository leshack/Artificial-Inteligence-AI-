{
 "cells": [
  {
   "cell_type": "markdown",
   "metadata": {},
   "source": [
    "# This Notebook is using Decision Tree Classifier\n",
    "# with Accuracy of 100%"
   ]
  },
  {
   "cell_type": "code",
   "execution_count": null,
   "metadata": {
    "_cell_guid": "b1076dfc-b9ad-4769-8c92-a6c4dae69d19",
    "_uuid": "8f2839f25d086af736a60e9eeb907d3b93b6e0e5",
    "execution": {
     "iopub.execute_input": "2021-06-02T04:19:32.377925Z",
     "iopub.status.busy": "2021-06-02T04:19:32.377463Z",
     "iopub.status.idle": "2021-06-02T04:19:32.388996Z",
     "shell.execute_reply": "2021-06-02T04:19:32.387551Z",
     "shell.execute_reply.started": "2021-06-02T04:19:32.377878Z"
    }
   },
   "outputs": [],
   "source": []
  },
  {
   "cell_type": "code",
   "execution_count": null,
   "metadata": {
    "execution": {
     "iopub.execute_input": "2021-06-02T04:19:32.391356Z",
     "iopub.status.busy": "2021-06-02T04:19:32.390929Z",
     "iopub.status.idle": "2021-06-02T04:19:32.402371Z",
     "shell.execute_reply": "2021-06-02T04:19:32.401104Z",
     "shell.execute_reply.started": "2021-06-02T04:19:32.391299Z"
    }
   },
   "outputs": [],
   "source": [
    "import numpy as np \n",
    "import pandas as pd\n",
    "import seaborn as sns\n",
    "\n",
    "from sklearn.tree import DecisionTreeClassifier\n",
    "from sklearn import metrics\n",
    "\n",
    "import matplotlib.pyplot as plt\n",
    "%matplotlib inline"
   ]
  },
  {
   "cell_type": "code",
   "execution_count": null,
   "metadata": {
    "_cell_guid": "79c7e3d0-c299-4dcb-8224-4455121ee9b0",
    "_uuid": "d629ff2d2480ee46fbb7e2d37f6b5fab8052498a",
    "execution": {
     "iopub.execute_input": "2021-06-02T04:19:32.404706Z",
     "iopub.status.busy": "2021-06-02T04:19:32.404162Z",
     "iopub.status.idle": "2021-06-02T04:19:32.446305Z",
     "shell.execute_reply": "2021-06-02T04:19:32.445168Z",
     "shell.execute_reply.started": "2021-06-02T04:19:32.404638Z"
    }
   },
   "outputs": [],
   "source": [
    "zoo_dir = \"/kaggle/input/zoo-animal-classification/zoo.csv\"\n",
    "class_dir = \"/kaggle/input/zoo-animal-classification/class.csv\"\n",
    "\n",
    "data_zoo = pd.read_csv(zoo_dir)\n",
    "data_class = pd.read_csv(class_dir)"
   ]
  },
  {
   "cell_type": "code",
   "execution_count": null,
   "metadata": {
    "execution": {
     "iopub.execute_input": "2021-06-02T04:19:32.449517Z",
     "iopub.status.busy": "2021-06-02T04:19:32.449178Z",
     "iopub.status.idle": "2021-06-02T04:19:32.494607Z",
     "shell.execute_reply": "2021-06-02T04:19:32.493773Z",
     "shell.execute_reply.started": "2021-06-02T04:19:32.449483Z"
    }
   },
   "outputs": [],
   "source": [
    "display(data_zoo.head())\n",
    "display(data_class)"
   ]
  },
  {
   "cell_type": "code",
   "execution_count": null,
   "metadata": {
    "execution": {
     "iopub.execute_input": "2021-06-02T04:19:32.496407Z",
     "iopub.status.busy": "2021-06-02T04:19:32.496127Z",
     "iopub.status.idle": "2021-06-02T04:19:32.50249Z",
     "shell.execute_reply": "2021-06-02T04:19:32.501755Z",
     "shell.execute_reply.started": "2021-06-02T04:19:32.496379Z"
    }
   },
   "outputs": [],
   "source": [
    "class_types = list(data_class['Class_Type'])\n",
    "class_types"
   ]
  },
  {
   "cell_type": "code",
   "execution_count": null,
   "metadata": {
    "execution": {
     "iopub.execute_input": "2021-06-02T04:19:32.504198Z",
     "iopub.status.busy": "2021-06-02T04:19:32.503892Z",
     "iopub.status.idle": "2021-06-02T04:19:32.516792Z",
     "shell.execute_reply": "2021-06-02T04:19:32.515894Z",
     "shell.execute_reply.started": "2021-06-02T04:19:32.504166Z"
    }
   },
   "outputs": [],
   "source": [
    "class_map = {}\n",
    "for i in range(data_class.shape[0]):        \n",
    "    class_map[data_class['Class_Number'].iloc[i]] = data_class['Class_Type'].iloc[i]\n",
    "    \n",
    "class_map"
   ]
  },
  {
   "cell_type": "code",
   "execution_count": null,
   "metadata": {
    "execution": {
     "iopub.execute_input": "2021-06-02T04:19:32.519703Z",
     "iopub.status.busy": "2021-06-02T04:19:32.519341Z",
     "iopub.status.idle": "2021-06-02T04:19:32.529676Z",
     "shell.execute_reply": "2021-06-02T04:19:32.528407Z",
     "shell.execute_reply.started": "2021-06-02T04:19:32.519652Z"
    }
   },
   "outputs": [],
   "source": [
    "print(f\"Total animals in zoo data is {len(data_zoo['animal_name'].unique())}\")\n",
    "print(f\"Total animal in class data is {data_class['Number_Of_Animal_Species_In_Class'].sum()}\")"
   ]
  },
  {
   "cell_type": "code",
   "execution_count": null,
   "metadata": {
    "execution": {
     "iopub.execute_input": "2021-06-02T04:19:32.531528Z",
     "iopub.status.busy": "2021-06-02T04:19:32.531198Z",
     "iopub.status.idle": "2021-06-02T04:19:32.567485Z",
     "shell.execute_reply": "2021-06-02T04:19:32.566237Z",
     "shell.execute_reply.started": "2021-06-02T04:19:32.531498Z"
    }
   },
   "outputs": [],
   "source": [
    "data = pd.merge(data_zoo, data_class, how='left', left_on='class_type', right_on='Class_Number')\n",
    "data.head()"
   ]
  },
  {
   "cell_type": "code",
   "execution_count": null,
   "metadata": {
    "execution": {
     "iopub.execute_input": "2021-06-02T04:19:32.836281Z",
     "iopub.status.busy": "2021-06-02T04:19:32.83591Z",
     "iopub.status.idle": "2021-06-02T04:19:32.856781Z",
     "shell.execute_reply": "2021-06-02T04:19:32.85592Z",
     "shell.execute_reply.started": "2021-06-02T04:19:32.836249Z"
    }
   },
   "outputs": [],
   "source": [
    "## Droping columns that are repeating and not useful\n",
    "data.drop(['Class_Number', 'Number_Of_Animal_Species_In_Class', 'Animal_Names'], axis=1, inplace=True)\n",
    "data.head()"
   ]
  },
  {
   "cell_type": "code",
   "execution_count": null,
   "metadata": {
    "execution": {
     "iopub.execute_input": "2021-06-02T04:19:33.050978Z",
     "iopub.status.busy": "2021-06-02T04:19:33.050609Z",
     "iopub.status.idle": "2021-06-02T04:19:33.290806Z",
     "shell.execute_reply": "2021-06-02T04:19:33.289768Z",
     "shell.execute_reply.started": "2021-06-02T04:19:33.050947Z"
    }
   },
   "outputs": [],
   "source": [
    "plt.figure(figsize = (12,8))\n",
    "plt.grid(True)\n",
    "ax = sns.countplot(x='Class_Type', data=data, palette='Spectral_r')\n",
    "for p in ax.patches:\n",
    "        ax.annotate('{:.0f}'.format(p.get_height()), (p.get_x()+0.3, p.get_height()+0.5))"
   ]
  },
  {
   "cell_type": "markdown",
   "metadata": {},
   "source": [
    "## Equal division of data w.r.t animal Type\n",
    "\n",
    "While normall Splitting the data into Training and Test sets , there might be a case when all <br/>\n",
    "the 4 Amphibians are in Train set or all the Amphibians are in Test set which will reduce our accuracy<br/>\n",
    "So, what we will do is seprately split the data acoording to the animal type.\n"
   ]
  },
  {
   "cell_type": "markdown",
   "metadata": {},
   "source": [
    "#### The zoo data from each class needs to be equally ditributed among Train and Test Data "
   ]
  },
  {
   "cell_type": "code",
   "execution_count": null,
   "metadata": {
    "execution": {
     "iopub.execute_input": "2021-06-02T04:19:33.441262Z",
     "iopub.status.busy": "2021-06-02T04:19:33.440902Z",
     "iopub.status.idle": "2021-06-02T04:19:33.452698Z",
     "shell.execute_reply": "2021-06-02T04:19:33.451412Z",
     "shell.execute_reply.started": "2021-06-02T04:19:33.441232Z"
    }
   },
   "outputs": [],
   "source": [
    "# Seperating all the categories of animals in a dictionary\n",
    "animal_type = {}\n",
    "animal_category = data.Class_Type.unique()\n",
    "print(\"Seperating Categories...\")\n",
    "for category in animal_category:\n",
    "    animal_type[category] = data[data['Class_Type']==category]\n",
    "print(\"Seperation completed\")"
   ]
  },
  {
   "cell_type": "code",
   "execution_count": null,
   "metadata": {
    "execution": {
     "iopub.execute_input": "2021-06-02T04:19:34.150877Z",
     "iopub.status.busy": "2021-06-02T04:19:34.15051Z",
     "iopub.status.idle": "2021-06-02T04:19:34.184724Z",
     "shell.execute_reply": "2021-06-02T04:19:34.183779Z",
     "shell.execute_reply.started": "2021-06-02T04:19:34.150846Z"
    }
   },
   "outputs": [],
   "source": [
    "#Here we will split every category into trainig and test data\n",
    "SPLIT = 0.85\n",
    "train = pd.DataFrame() #to combine all the splited traning data from all categories\n",
    "test = pd.DataFrame() #to combine all the splited test data from all categories\n",
    "for category_name in animal_type:\n",
    "    m = int(animal_type[category_name].shape[0] * SPLIT)\n",
    "    train = pd.concat([train, animal_type[category_name].iloc[: m, :]])\n",
    "    test = pd.concat([test, animal_type[category_name].iloc[m:, :]])\n",
    "\n",
    "#Shuffling the train and test data randomly\n",
    "train = train.sample(frac=1)\n",
    "test = test.sample(frac=1)"
   ]
  },
  {
   "cell_type": "code",
   "execution_count": null,
   "metadata": {
    "execution": {
     "iopub.execute_input": "2021-06-02T04:19:41.72165Z",
     "iopub.status.busy": "2021-06-02T04:19:41.721303Z",
     "iopub.status.idle": "2021-06-02T04:19:41.726625Z",
     "shell.execute_reply": "2021-06-02T04:19:41.725645Z",
     "shell.execute_reply.started": "2021-06-02T04:19:41.72162Z"
    }
   },
   "outputs": [],
   "source": [
    "print(f\"Training data shape = {train.shape}\")\n",
    "print(f\"Training data shape = {test.shape}\")"
   ]
  },
  {
   "cell_type": "code",
   "execution_count": null,
   "metadata": {
    "execution": {
     "iopub.execute_input": "2021-06-02T04:19:41.729395Z",
     "iopub.status.busy": "2021-06-02T04:19:41.728922Z",
     "iopub.status.idle": "2021-06-02T04:19:42.610532Z",
     "shell.execute_reply": "2021-06-02T04:19:42.609481Z",
     "shell.execute_reply.started": "2021-06-02T04:19:41.729344Z"
    }
   },
   "outputs": [],
   "source": [
    "plt.figure(figsize=(16,12))\n",
    "matrix = np.triu(train.corr())\n",
    "sns.heatmap(train.corr(), cmap='coolwarm', annot=True, fmt='.1g', mask=matrix)\n",
    "plt.plot()"
   ]
  },
  {
   "cell_type": "code",
   "execution_count": null,
   "metadata": {
    "execution": {
     "iopub.execute_input": "2021-06-02T04:19:42.614267Z",
     "iopub.status.busy": "2021-06-02T04:19:42.613783Z",
     "iopub.status.idle": "2021-06-02T04:19:42.636144Z",
     "shell.execute_reply": "2021-06-02T04:19:42.63477Z",
     "shell.execute_reply.started": "2021-06-02T04:19:42.614217Z"
    }
   },
   "outputs": [],
   "source": [
    "train.head()"
   ]
  },
  {
   "cell_type": "markdown",
   "metadata": {},
   "source": [
    "## Classification using Decision Tree Classifier"
   ]
  },
  {
   "cell_type": "code",
   "execution_count": null,
   "metadata": {
    "execution": {
     "iopub.execute_input": "2021-06-02T04:29:21.066971Z",
     "iopub.status.busy": "2021-06-02T04:29:21.066564Z",
     "iopub.status.idle": "2021-06-02T04:29:21.075492Z",
     "shell.execute_reply": "2021-06-02T04:29:21.074297Z",
     "shell.execute_reply.started": "2021-06-02T04:29:21.066939Z"
    }
   },
   "outputs": [],
   "source": [
    "# We have already split the data into 85% train and 15% test data\n",
    "X_train = train.iloc[:,1:-2] # not using animal_name and class_type and Class_Type(category of animal)\n",
    "y_train = train.iloc[:, -2] # class_type is the dependent feature\n",
    "X_test = test.iloc[:, 1:-2]\n",
    "y_test = test.iloc[:, -2]"
   ]
  },
  {
   "cell_type": "code",
   "execution_count": null,
   "metadata": {
    "execution": {
     "iopub.execute_input": "2021-06-02T04:29:22.400877Z",
     "iopub.status.busy": "2021-06-02T04:29:22.400504Z",
     "iopub.status.idle": "2021-06-02T04:29:22.410734Z",
     "shell.execute_reply": "2021-06-02T04:29:22.409875Z",
     "shell.execute_reply.started": "2021-06-02T04:29:22.400845Z"
    }
   },
   "outputs": [],
   "source": [
    "clf = DecisionTreeClassifier()\n",
    "clf.fit(X_train, y_train)\n",
    "\n",
    "y_pred = clf.predict(X_test)"
   ]
  },
  {
   "cell_type": "code",
   "execution_count": null,
   "metadata": {
    "execution": {
     "iopub.execute_input": "2021-06-02T04:29:25.287713Z",
     "iopub.status.busy": "2021-06-02T04:29:25.287209Z",
     "iopub.status.idle": "2021-06-02T04:29:25.293143Z",
     "shell.execute_reply": "2021-06-02T04:29:25.292447Z",
     "shell.execute_reply.started": "2021-06-02T04:29:25.28768Z"
    }
   },
   "outputs": [],
   "source": [
    "np.unique(y_pred), np.unique(y_test)\n",
    "#To simply understand whether the prediction are atleast covering all the classes or not"
   ]
  },
  {
   "cell_type": "code",
   "execution_count": null,
   "metadata": {
    "execution": {
     "iopub.execute_input": "2021-06-02T04:29:29.445816Z",
     "iopub.status.busy": "2021-06-02T04:29:29.44541Z",
     "iopub.status.idle": "2021-06-02T04:29:29.461504Z",
     "shell.execute_reply": "2021-06-02T04:29:29.459834Z",
     "shell.execute_reply.started": "2021-06-02T04:29:29.445783Z"
    }
   },
   "outputs": [],
   "source": [
    "print(f\"Accuracy = {metrics.accuracy_score(y_test, y_pred)}\")\n",
    "print(metrics.classification_report(y_test, y_pred))"
   ]
  },
  {
   "cell_type": "code",
   "execution_count": null,
   "metadata": {
    "execution": {
     "iopub.execute_input": "2021-06-02T04:29:34.126638Z",
     "iopub.status.busy": "2021-06-02T04:29:34.126017Z",
     "iopub.status.idle": "2021-06-02T04:29:34.135616Z",
     "shell.execute_reply": "2021-06-02T04:29:34.134434Z",
     "shell.execute_reply.started": "2021-06-02T04:29:34.126581Z"
    }
   },
   "outputs": [],
   "source": [
    "result = [class_map[i] for i in y_pred]\n",
    "print(\"prediction values\")\n",
    "print(result)\n",
    "print()\n",
    "print(\"Real test y values\")\n",
    "print([class_map[i] for i in list(y_test)])"
   ]
  },
  {
   "cell_type": "code",
   "execution_count": null,
   "metadata": {
    "execution": {
     "iopub.execute_input": "2021-06-02T04:29:37.866115Z",
     "iopub.status.busy": "2021-06-02T04:29:37.865598Z",
     "iopub.status.idle": "2021-06-02T04:29:37.893067Z",
     "shell.execute_reply": "2021-06-02T04:29:37.892154Z",
     "shell.execute_reply.started": "2021-06-02T04:29:37.866082Z"
    }
   },
   "outputs": [],
   "source": [
    "final_prediction_df = X_test\n",
    "final_prediction_df['class_type'] = [class_map[i] for i in y_test]\n",
    "final_prediction_df['pred_class_type'] = [class_map[i] for i in y_pred]\n",
    "final_prediction_df"
   ]
  },
  {
   "cell_type": "code",
   "execution_count": null,
   "metadata": {
    "execution": {
     "iopub.execute_input": "2021-06-02T04:29:44.46068Z",
     "iopub.status.busy": "2021-06-02T04:29:44.460338Z",
     "iopub.status.idle": "2021-06-02T04:29:44.467893Z",
     "shell.execute_reply": "2021-06-02T04:29:44.466641Z",
     "shell.execute_reply.started": "2021-06-02T04:29:44.460633Z"
    }
   },
   "outputs": [],
   "source": [
    "X_train.columns"
   ]
  },
  {
   "cell_type": "code",
   "execution_count": null,
   "metadata": {
    "execution": {
     "iopub.execute_input": "2021-06-02T04:19:42.739236Z",
     "iopub.status.busy": "2021-06-02T04:19:42.738919Z",
     "iopub.status.idle": "2021-06-02T04:19:42.757249Z",
     "shell.execute_reply": "2021-06-02T04:19:42.755807Z",
     "shell.execute_reply.started": "2021-06-02T04:19:42.739204Z"
    }
   },
   "outputs": [],
   "source": [
    "X_train.head(1)"
   ]
  },
  {
   "cell_type": "code",
   "execution_count": null,
   "metadata": {
    "execution": {
     "iopub.execute_input": "2021-06-02T04:19:42.763095Z",
     "iopub.status.busy": "2021-06-02T04:19:42.762768Z",
     "iopub.status.idle": "2021-06-02T04:19:42.776818Z",
     "shell.execute_reply": "2021-06-02T04:19:42.775942Z",
     "shell.execute_reply.started": "2021-06-02T04:19:42.763066Z"
    }
   },
   "outputs": [],
   "source": [
    "#tried manually with human feature values\n",
    "predd = {}\n",
    "predd['HAIR'] = 1\n",
    "predd['FEATHERS'] = 0\n",
    "predd['EGGS'] = 0\n",
    "predd['MILK'] = 1\n",
    "predd['AIRBORNE'] = 0\n",
    "predd['AQUATIC'] = 0\n",
    "predd['PREDATOR'] = 1\n",
    "predd['TOOTHED'] = 1\n",
    "predd['BACKBONE'] = 1\n",
    "predd['BREATHES'] = 1\n",
    "predd['VENOMOIS'] = 0\n",
    "predd['FINS'] = 0\n",
    "predd['LEGS'] = 2\n",
    "predd['TAIL'] = 0\n",
    "predd['DOMESTIC'] = 0\n",
    "predd['CATSIZE'] = 0\n",
    "\n",
    "pred_df = pd.DataFrame(data=predd, index=['value'])\n",
    "custom_pred = clf.predict(pred_df)"
   ]
  },
  {
   "cell_type": "code",
   "execution_count": null,
   "metadata": {
    "execution": {
     "iopub.execute_input": "2021-06-02T04:19:42.778722Z",
     "iopub.status.busy": "2021-06-02T04:19:42.778272Z",
     "iopub.status.idle": "2021-06-02T04:19:42.797156Z",
     "shell.execute_reply": "2021-06-02T04:19:42.796108Z",
     "shell.execute_reply.started": "2021-06-02T04:19:42.77866Z"
    }
   },
   "outputs": [],
   "source": [
    "class_map[custom_pred[0]]"
   ]
  },
  {
   "cell_type": "code",
   "execution_count": null,
   "metadata": {
    "execution": {
     "iopub.execute_input": "2021-06-02T04:19:42.798819Z",
     "iopub.status.busy": "2021-06-02T04:19:42.798473Z",
     "iopub.status.idle": "2021-06-02T04:19:42.812298Z",
     "shell.execute_reply": "2021-06-02T04:19:42.810902Z",
     "shell.execute_reply.started": "2021-06-02T04:19:42.798786Z"
    }
   },
   "outputs": [],
   "source": [
    "class_map"
   ]
  },
  {
   "cell_type": "code",
   "execution_count": null,
   "metadata": {
    "execution": {
     "iopub.execute_input": "2021-06-02T04:30:25.816361Z",
     "iopub.status.busy": "2021-06-02T04:30:25.815954Z",
     "iopub.status.idle": "2021-06-02T04:30:26.558197Z",
     "shell.execute_reply": "2021-06-02T04:30:26.557378Z",
     "shell.execute_reply.started": "2021-06-02T04:30:25.816325Z"
    }
   },
   "outputs": [],
   "source": [
    "from sklearn.tree import plot_tree\n",
    "\n",
    "fig = plt.figure(figsize=(25,20))\n",
    "_ = plot_tree(clf, feature_names=X_train.columns,  \n",
    "                class_names=class_types, filled=True)\n"
   ]
  },
  {
   "cell_type": "code",
   "execution_count": null,
   "metadata": {
    "execution": {
     "iopub.execute_input": "2021-06-02T04:30:26.559968Z",
     "iopub.status.busy": "2021-06-02T04:30:26.559522Z",
     "iopub.status.idle": "2021-06-02T04:30:26.62884Z",
     "shell.execute_reply": "2021-06-02T04:30:26.627501Z",
     "shell.execute_reply.started": "2021-06-02T04:30:26.559927Z"
    }
   },
   "outputs": [],
   "source": [
    "from sklearn.tree import export_graphviz\n",
    "import graphviz\n",
    "# DOT data\n",
    "dot_data = export_graphviz(clf, out_file=None, \n",
    "                                feature_names=X_train.columns,  \n",
    "                                class_names=class_types,\n",
    "                                filled=True)\n",
    "\n",
    "# Draw graph\n",
    "graph = graphviz.Source(dot_data, format=\"png\") \n",
    "graph\n"
   ]
  },
  {
   "cell_type": "code",
   "execution_count": null,
   "metadata": {
    "execution": {
     "iopub.execute_input": "2021-06-02T04:19:44.097373Z",
     "iopub.status.busy": "2021-06-02T04:19:44.096873Z",
     "iopub.status.idle": "2021-06-02T04:19:44.272786Z",
     "shell.execute_reply": "2021-06-02T04:19:44.271354Z",
     "shell.execute_reply.started": "2021-06-02T04:19:44.097322Z"
    }
   },
   "outputs": [],
   "source": [
    "graph.render(\"decision_tree_graphivz\")"
   ]
  },
  {
   "cell_type": "markdown",
   "metadata": {},
   "source": [
    "# And this is how we are getting a perfect accuracy of 100% with split of 0.8 or greater\n",
    "Didn't try for split<0.8 You can check and update in the comment<br/>\n",
    "Though sometimes the accuracy might lower but there's a very small difference between the amphibian and reptiles.<br/>\n",
    "But restarting the kernel and running all again can make the accuracy back to 100%! \n",
    "### If you like this notebook Do UPVOTE!!!"
   ]
  }
 ],
 "metadata": {
  "kernelspec": {
   "display_name": "Python 3 (ipykernel)",
   "language": "python",
   "name": "python3"
  },
  "language_info": {
   "codemirror_mode": {
    "name": "ipython",
    "version": 3
   },
   "file_extension": ".py",
   "mimetype": "text/x-python",
   "name": "python",
   "nbconvert_exporter": "python",
   "pygments_lexer": "ipython3",
   "version": "3.9.1"
  }
 },
 "nbformat": 4,
 "nbformat_minor": 4
}
