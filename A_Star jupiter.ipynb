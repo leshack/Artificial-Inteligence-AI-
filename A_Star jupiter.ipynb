{
 "cells": [
  {
   "cell_type": "code",
   "execution_count": 1,
   "id": "b26b21f3",
   "metadata": {},
   "outputs": [
    {
     "name": "stdout",
     "output_type": "stream",
     "text": [
      "Enter the Start Node: A\n",
      "Enter the Goal Node: G\n",
      "Path with least cost is:  A -> C -> G\n"
     ]
    }
   ],
   "source": [
    "graph=[['A','B',1,3],\n",
    "       ['A','C',2,4],\n",
    "       ['A','H',7,0],\n",
    "       ['B','D',4,2],\n",
    "       ['B','E',6,6],\n",
    "       ['C','F',3,3],\n",
    "       ['C','G',2,1],\n",
    "       ['D','E',7,6],\n",
    "       ['D','H',5,0],\n",
    "       ['F','H',1,0],\n",
    "       ['G','H',2, 0]]\n",
    "temp = []\n",
    "temp1 = []\n",
    "for i in graph:\n",
    "    temp.append(i[0])\n",
    "    temp1.append(i[1])\n",
    "nodes = set(temp).union(set(temp1))\n",
    "def A_star(graph, costs, open, closed, cur_node):\n",
    "    if cur_node in open:\n",
    "        open.remove(cur_node)\n",
    "    closed.add(cur_node)\n",
    "    for i in graph:\n",
    "        if(i[0] == cur_node and costs[i[0]]+i[2]+i[3] < costs[i[1]]):\n",
    "            open.add(i[1])\n",
    "            costs[i[1]] =  costs[i[0]]+i[2]+i[3]\n",
    "            path[i[1]] = path[i[0]] + ' -> ' + i[1]\n",
    "    costs[cur_node] = 999999\n",
    "    small = min(costs, key=costs.get)\n",
    "    if small not in closed:\n",
    "        A_star(graph, costs, open,closed, small)\n",
    "costs = dict()\n",
    "temp_cost = dict()\n",
    "path = dict()\n",
    "for i in nodes:\n",
    "    costs[i] = 999999\n",
    "    path[i] = ' '\n",
    "open = set()\n",
    "closed = set()\n",
    "start_node = input(\"Enter the Start Node: \")\n",
    "open.add(start_node)\n",
    "path[start_node] = start_node\n",
    "costs[start_node] = 0\n",
    "A_star(graph, costs, open, closed, start_node)\n",
    "goal_node = input(\"Enter the Goal Node: \")\n",
    "print(\"Path with least cost is: \",path[goal_node])"
   ]
  },
  {
   "cell_type": "code",
   "execution_count": null,
   "id": "8cbf56a6",
   "metadata": {},
   "outputs": [],
   "source": []
  }
 ],
 "metadata": {
  "kernelspec": {
   "display_name": "Python 3 (ipykernel)",
   "language": "python",
   "name": "python3"
  },
  "language_info": {
   "codemirror_mode": {
    "name": "ipython",
    "version": 3
   },
   "file_extension": ".py",
   "mimetype": "text/x-python",
   "name": "python",
   "nbconvert_exporter": "python",
   "pygments_lexer": "ipython3",
   "version": "3.9.12"
  }
 },
 "nbformat": 4,
 "nbformat_minor": 5
}
