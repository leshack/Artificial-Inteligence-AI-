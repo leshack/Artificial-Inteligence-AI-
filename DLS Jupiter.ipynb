{
 "cells": [
  {
   "cell_type": "code",
   "execution_count": 1,
   "id": "f2a30b19",
   "metadata": {},
   "outputs": [
    {
     "name": "stdout",
     "output_type": "stream",
     "text": [
      "Enter the goal node:-A\n",
      "Enter the maximum depth limit:-3\n",
      "\n",
      "nCurrent level--> 0\n",
      "Goal test successful\n",
      "Path to goal node available\n",
      "Path ['A']\n"
     ]
    }
   ],
   "source": [
    "graph = {\n",
    " 'A' : ['B','C'],\n",
    " 'B' : ['D', 'E'],\n",
    " 'C' : ['F', 'G'],\n",
    " 'D' : [],\n",
    " 'E' : [],\n",
    " 'F' : [],\n",
    " 'G' : []\n",
    "}\n",
    "def DLS(start,goal,path,level,maxD):\n",
    "    print('nCurrent level-->',level)\n",
    "    path.append(start)\n",
    "    if start == goal:\n",
    "        print(\"Goal test successful\")\n",
    "        return path\n",
    "    print('Goal node testing failed')\n",
    "    if level==maxD:\n",
    "        return False\n",
    "    print('nExpanding the current node',start)\n",
    "    for child in graph[start]:\n",
    "        if DLS(child,goal,path,level+1,maxD):\n",
    "            return path\n",
    "        path.pop()\n",
    "    return False\n",
    "start = 'A'\n",
    "goal = input('Enter the goal node:-')\n",
    "maxD = int(input(\"Enter the maximum depth limit:-\"))\n",
    "print()\n",
    "path = list()\n",
    "res = DLS(start,goal,path,0,maxD)\n",
    "if(res):\n",
    "    print(\"Path to goal node available\")\n",
    "    print(\"Path\",path)\n",
    "else:\n",
    "    print(\"No path available for the goal node in given depth limit\")"
   ]
  },
  {
   "cell_type": "code",
   "execution_count": null,
   "id": "5798902f",
   "metadata": {},
   "outputs": [],
   "source": []
  }
 ],
 "metadata": {
  "kernelspec": {
   "display_name": "Python 3 (ipykernel)",
   "language": "python",
   "name": "python3"
  },
  "language_info": {
   "codemirror_mode": {
    "name": "ipython",
    "version": 3
   },
   "file_extension": ".py",
   "mimetype": "text/x-python",
   "name": "python",
   "nbconvert_exporter": "python",
   "pygments_lexer": "ipython3",
   "version": "3.9.12"
  }
 },
 "nbformat": 4,
 "nbformat_minor": 5
}
