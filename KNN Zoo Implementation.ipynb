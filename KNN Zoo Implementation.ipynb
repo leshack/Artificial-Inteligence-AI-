{
 "cells": [
  {
   "cell_type": "code",
   "execution_count": 1,
   "id": "a2b4fda4",
   "metadata": {},
   "outputs": [
    {
     "ename": "ModuleNotFoundError",
     "evalue": "No module named 'sklearn'",
     "output_type": "error",
     "traceback": [
      "\u001b[1;31m---------------------------------------------------------------------------\u001b[0m",
      "\u001b[1;31mModuleNotFoundError\u001b[0m                       Traceback (most recent call last)",
      "Input \u001b[1;32mIn [1]\u001b[0m, in \u001b[0;36m<cell line: 2>\u001b[1;34m()\u001b[0m\n\u001b[0;32m      1\u001b[0m \u001b[38;5;66;03m#importing the required libraries\u001b[39;00m\n\u001b[1;32m----> 2\u001b[0m \u001b[38;5;28;01mimport\u001b[39;00m \u001b[38;5;21;01msklearn\u001b[39;00m\n\u001b[0;32m      3\u001b[0m \u001b[38;5;28;01mimport\u001b[39;00m \u001b[38;5;21;01mnumpy\u001b[39;00m \u001b[38;5;28;01mas\u001b[39;00m \u001b[38;5;21;01mnp\u001b[39;00m \u001b[38;5;66;03m#working with arrays. \u001b[39;00m\n\u001b[0;32m      4\u001b[0m \u001b[38;5;28;01mimport\u001b[39;00m \u001b[38;5;21;01mpandas\u001b[39;00m \u001b[38;5;28;01mas\u001b[39;00m \u001b[38;5;21;01mpd\u001b[39;00m \u001b[38;5;66;03m#data manipulation library that is necessary for every aspect of data analysis or machine learning.\u001b[39;00m\n",
      "\u001b[1;31mModuleNotFoundError\u001b[0m: No module named 'sklearn'"
     ]
    }
   ],
   "source": [
    "#importing the required libraries\n",
    "import sklearn\n",
    "import numpy as np #working with arrays. \n",
    "import pandas as pd #data manipulation library that is necessary for every aspect of data analysis or machine learning.\n",
    "from sklearn.neighbors import KNeighborsClassifier\n",
    "from sklearn.model_selection import train_test_split\n",
    "from sklearn.metrics import confusion_matrix, accuracy_score"
   ]
  },
  {
   "cell_type": "code",
   "execution_count": null,
   "id": "d1461a66",
   "metadata": {},
   "outputs": [],
   "source": [
    "#Loading the dataset\n",
    "dataset = pd.read_csv(\"C:/Users/Admin/OneDrive - Strathmore University/school work/STRATHMORE UNIVERSITY(BBIT)/BBIT EXEMPT 3.2/Artificial Intelligencence (AI)/project/KNN/zoo.csv\")"
   ]
  },
  {
   "cell_type": "code",
   "execution_count": null,
   "id": "af858250",
   "metadata": {},
   "outputs": [],
   "source": [
    "#Exploratory Data Analysis\n",
    "dataset.shape #returns the orientation of the dataset i.e number of columns and rows."
   ]
  },
  {
   "cell_type": "code",
   "execution_count": null,
   "id": "ecc67c55",
   "metadata": {},
   "outputs": [],
   "source": [
    "dataset.head() #returns part of the dataset with agiven number of colums"
   ]
  },
  {
   "cell_type": "code",
   "execution_count": null,
   "id": "3cf82d50",
   "metadata": {},
   "outputs": [],
   "source": [
    "dataset.describe() #returns some statistical information for the data"
   ]
  },
  {
   "cell_type": "code",
   "execution_count": null,
   "id": "d68cd8ce",
   "metadata": {},
   "outputs": [],
   "source": [
    "dataset.info()"
   ]
  },
  {
   "cell_type": "markdown",
   "id": "35e7cf4f",
   "metadata": {},
   "source": [
    "Splitting the data into two dataframes X-containing all the features and y-containing the target"
   ]
  },
  {
   "cell_type": "code",
   "execution_count": null,
   "id": "936870b1",
   "metadata": {},
   "outputs": [],
   "source": [
    "y=dataset['class_type'].values\n",
    "X=dataset.drop(['class_type','animal_name'],axis=1).values"
   ]
  },
  {
   "cell_type": "markdown",
   "id": "04479225",
   "metadata": {},
   "source": [
    "Splitting the data into train and test Training the model"
   ]
  },
  {
   "cell_type": "code",
   "execution_count": null,
   "id": "8efa568a",
   "metadata": {},
   "outputs": [],
   "source": [
    "#Spliting dataset into training set and test set\n",
    "X_train,X_test,y_train,y_test = train_test_split(X, y, test_size=0.3, random_state=42)\n",
    "classifier = KNeighborsClassifier(n_neighbors=7)\n",
    "classifier.fit(X_train,y_train)"
   ]
  },
  {
   "cell_type": "code",
   "execution_count": null,
   "id": "983023bd",
   "metadata": {},
   "outputs": [],
   "source": [
    "# Predicting the Test set results\n",
    "y_pred = classifier.predict(X_test)\n",
    "#Model Evaluation\n",
    "#Building a Confusion Matrix\n",
    "cm = confusion_matrix(y_test, y_pred)"
   ]
  },
  {
   "cell_type": "code",
   "execution_count": null,
   "id": "0d353377",
   "metadata": {},
   "outputs": [],
   "source": [
    "classifier.score(X_train,y_train)"
   ]
  },
  {
   "cell_type": "code",
   "execution_count": null,
   "id": "eedf1498",
   "metadata": {},
   "outputs": [],
   "source": [
    "classifier.score(X_test,y_test)"
   ]
  },
  {
   "cell_type": "code",
   "execution_count": null,
   "id": "c65f5747",
   "metadata": {},
   "outputs": [],
   "source": [
    "#Calculating Model Accuracy\n",
    "accuracy = accuracy_score(y_test, y_pred)*100\n",
    "print('Accuracy of our model is equal ' + str(round(accuracy, 2)) + ' %.')"
   ]
  },
  {
   "cell_type": "markdown",
   "id": "f5da6606",
   "metadata": {},
   "source": [
    "#### Conclusions\n",
    "The KNN algorithm is very intuitive and easy to understand Its versatile-Can be used for classification or regression. The training time is minimal, the model doesn’t actually learns or generalizes The testing time can be very long, because the algorithm loops over the whole training dataset and calculates the distances (distance calculation can be a hard work, based on the type of distance metric and based on the type of the dataset) For small K values the algorithm can be noise sensitive and easy to overfit The data set should numeric or a distance metrics should exist to calculate distances between points Doesn’t perform too well on unbalanced data Sensitive to irrelevant features and the scale of the data."
   ]
  },
  {
   "cell_type": "code",
   "execution_count": null,
   "id": "9bbbd7f8",
   "metadata": {},
   "outputs": [],
   "source": []
  }
 ],
 "metadata": {
  "kernelspec": {
   "display_name": "Python 3 (ipykernel)",
   "language": "python",
   "name": "python3"
  },
  "language_info": {
   "codemirror_mode": {
    "name": "ipython",
    "version": 3
   },
   "file_extension": ".py",
   "mimetype": "text/x-python",
   "name": "python",
   "nbconvert_exporter": "python",
   "pygments_lexer": "ipython3",
   "version": "3.9.1"
  },
  "vscode": {
   "interpreter": {
    "hash": "ad2bdc8ecc057115af97d19610ffacc2b4e99fae6737bb82f5d7fb13d2f2c186"
   }
  }
 },
 "nbformat": 4,
 "nbformat_minor": 5
}
